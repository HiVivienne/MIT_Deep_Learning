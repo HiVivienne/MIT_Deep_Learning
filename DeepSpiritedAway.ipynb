{
  "nbformat": 4,
  "nbformat_minor": 0,
  "metadata": {
    "accelerator": "GPU",
    "colab": {
      "name": "DeepSpiritedAway",
      "provenance": [],
      "collapsed_sections": [],
      "toc_visible": true,
      "include_colab_link": true
    },
    "kernelspec": {
      "display_name": "Python 3",
      "name": "python3"
    }
  },
  "cells": [
    {
      "cell_type": "markdown",
      "metadata": {
        "id": "view-in-github",
        "colab_type": "text"
      },
      "source": [
        "<a href=\"https://colab.research.google.com/github/HiVivienne/MIT_Deep_Learning/blob/main/DeepSpiritedAway.ipynb\" target=\"_parent\"><img src=\"https://colab.research.google.com/assets/colab-badge.svg\" alt=\"Open In Colab\"/></a>"
      ]
    },
    {
      "cell_type": "markdown",
      "metadata": {
        "id": "uoJsVjtCMunI"
      },
      "source": [
        "<table align=\"center\">\n",
        "  <td align=\"center\"><a target=\"_blank\" href=\"http://introtodeeplearning.com\">\n",
        "        <img src=\"https://i.ibb.co/Jr88sn2/mit.png\" style=\"padding-bottom:5px;\" />\n",
        "      Visit MIT Deep Learning</a></td>\n",
        "  <td align=\"center\"><a target=\"_blank\" href=\"https://colab.research.google.com/github/aamini/introtodeeplearning/blob/master/lab1/Part2_Music_Generation.ipynb\">\n",
        "        <img src=\"https://i.ibb.co/2P3SLwK/colab.png\"  style=\"padding-bottom:5px;\" />Run in Google Colab</a></td>\n",
        "  <td align=\"center\"><a target=\"_blank\" href=\"https://github.com/aamini/introtodeeplearning/blob/master/lab1/Part2_Music_Generation.ipynb\">\n",
        "        <img src=\"https://i.ibb.co/xfJbPmL/github.png\"  height=\"70px\" style=\"padding-bottom:5px;\"  />View Source on GitHub</a></td>\n",
        "</table>\n",
        "\n",
        "# Copyright Information"
      ]
    },
    {
      "cell_type": "code",
      "metadata": {
        "id": "bUik05YqMyCH"
      },
      "source": [
        "# Copyright 2021 MIT 6.S191 Introduction to Deep Learning. All Rights Reserved.\n",
        "# \n",
        "# Licensed under the MIT License. You may not use this file except in compliance\n",
        "# with the License. Use and/or modification of this code outside of 6.S191 must\n",
        "# reference:\n",
        "#\n",
        "# © MIT 6.S191: Introduction to Deep Learning\n",
        "# http://introtodeeplearning.com\n",
        "#"
      ],
      "execution_count": null,
      "outputs": []
    },
    {
      "cell_type": "markdown",
      "metadata": {
        "id": "MlPYGChl1HXF"
      },
      "source": [
        "##READ ME\r\n",
        "\r\n",
        "This notebook documents how we used recurrent neural network to generate music to mimic the distinct style of Joe Hisaishi, the famed Japanese composer behind many popular and critically acclaimed animated movies by Ghibli Studio such as Spirited Away, Princess Mononoke, and Castle in the Sky.\r\n",
        "\r\n",
        "![picture](https://drive.google.com/uc?id=1KkcOUaT7fzKgSdynGLA6ADVd4NiDhw7a)\r\n",
        "\r\n",
        "\r\n",
        "**What we did differently from the lab includes:**\r\n",
        "\r\n",
        "1.   We trained our RNN on a custom dataset of Joe Hisaishi songs in the **MIDI format**.  The MIDI format covers a larger range of notes while also providing the capability of playing chords, something which the ABC format cannot handle.\r\n",
        "2.   We use two LSTM layers to capture short range melodies and global harmonic patterns within the input training songs.\r\n",
        "\r\n",
        "As a last step, we decided to select and edit the generated (using garage band, to be ) to manually put together a ~ 90 seconds song, to give the music a human touch. We hope this music brings you joy as Mr. Hisaishi's music does for us.\r\n",
        "\r\n",
        "Here is a sample of what Mr. Hisaishi's music is usually like:\r\n",
        "\r\n",
        "\r\n"
      ]
    },
    {
      "cell_type": "code",
      "metadata": {
        "colab": {
          "base_uri": "https://localhost:8080/",
          "height": 321
        },
        "id": "5aEoEqXIC7Kt",
        "outputId": "6537d8db-35f5-40a4-e224-92338d739ecd"
      },
      "source": [
        "import IPython\r\n",
        "IPython.display.YouTubeVideo('0jZNKV5ROBM')\r\n"
      ],
      "execution_count": null,
      "outputs": [
        {
          "output_type": "execute_result",
          "data": {
            "text/html": [
              "\n",
              "        <iframe\n",
              "            width=\"400\"\n",
              "            height=\"300\"\n",
              "            src=\"https://www.youtube.com/embed/0jZNKV5ROBM\"\n",
              "            frameborder=\"0\"\n",
              "            allowfullscreen\n",
              "        ></iframe>\n",
              "        "
            ],
            "text/plain": [
              "<IPython.lib.display.YouTubeVideo at 0x7f702a4ed550>"
            ],
            "image/jpeg": "[encoded data removed]"
          },
          "metadata": {
            "tags": []
          },
          "execution_count": 3
        }
      ]
    },
    {
      "cell_type": "markdown",
      "metadata": {
        "id": "rsvlBQYCrE4I"
      },
      "source": [
        "## Dependencies \n",
        "Install the dependencies for this script."
      ]
    },
    {
      "cell_type": "code",
      "metadata": {
        "colab": {
          "base_uri": "https://localhost:8080/"
        },
        "id": "riVZCVK65QTH",
        "outputId": "f180cdab-2eee-4349-d0c0-47fea15d3d0c"
      },
      "source": [
        "# Import Tensorflow 2.0\n",
        "%tensorflow_version 2.x\n",
        "import tensorflow as tf \n",
        "\n",
        "# Download and import the MIT 6.S191 package\n",
        "!pip install mitdeeplearning\n",
        "import mitdeeplearning as mdl\n",
        "\n",
        "# Import all remaining packages\n",
        "import numpy as np\n",
        "import os\n",
        "import time\n",
        "import functools\n",
        "from IPython import display as ipythondisplay\n",
        "from tqdm import tqdm\n",
        "!apt-get install abcmidi timidity > /dev/null 2>&1\n",
        "\n",
        "# Check that we are using a GPU, if not switch runtimes\n",
        "#   using Runtime > Change Runtime Type > GPU\n",
        "assert len(tf.config.list_physical_devices('GPU')) > 0"
      ],
      "execution_count": null,
      "outputs": [
        {
          "output_type": "stream",
          "text": [
            "Collecting mitdeeplearning\n",
            "\u001b[?25l  Downloading https://files.pythonhosted.org/packages/9d/ad/650eb53c0d9d1213536fe94bc150f89b564ff5ee784bd662272584bb091b/mitdeeplearning-0.2.0.tar.gz (2.1MB)\n",
            "\r\u001b[K     |▏                               | 10kB 18.3MB/s eta 0:00:01\r\u001b[K     |▎                               | 20kB 23.9MB/s eta 0:00:01\r\u001b[K     |▌                               | 30kB 28.0MB/s eta 0:00:01\r\u001b[K     |▋                               | 40kB 25.0MB/s eta 0:00:01\r\u001b[K     |▉                               | 51kB 26.7MB/s eta 0:00:01\r\u001b[K     |█                               | 61kB 18.3MB/s eta 0:00:01\r\u001b[K     |█                               | 71kB 17.4MB/s eta 0:00:01\r\u001b[K     |█▎                              | 81kB 16.7MB/s eta 0:00:01\r\u001b[K     |█▍                              | 92kB 16.3MB/s eta 0:00:01\r\u001b[K     |█▋                              | 102kB 16.6MB/s eta 0:00:01\r\u001b[K     |█▊                              | 112kB 16.6MB/s eta 0:00:01\r\u001b[K     |█▉                              | 122kB 16.6MB/s eta 0:00:01\r\u001b[K     |██                              | 133kB 16.6MB/s eta 0:00:01\r\u001b[K     |██▏                             | 143kB 16.6MB/s eta 0:00:01\r\u001b[K     |██▍                             | 153kB 16.6MB/s eta 0:00:01\r\u001b[K     |██▌                             | 163kB 16.6MB/s eta 0:00:01\r\u001b[K     |██▋                             | 174kB 16.6MB/s eta 0:00:01\r\u001b[K     |██▉                             | 184kB 16.6MB/s eta 0:00:01\r\u001b[K     |███                             | 194kB 16.6MB/s eta 0:00:01\r\u001b[K     |███▏                            | 204kB 16.6MB/s eta 0:00:01\r\u001b[K     |███▎                            | 215kB 16.6MB/s eta 0:00:01\r\u001b[K     |███▌                            | 225kB 16.6MB/s eta 0:00:01\r\u001b[K     |███▋                            | 235kB 16.6MB/s eta 0:00:01\r\u001b[K     |███▊                            | 245kB 16.6MB/s eta 0:00:01\r\u001b[K     |████                            | 256kB 16.6MB/s eta 0:00:01\r\u001b[K     |████                            | 266kB 16.6MB/s eta 0:00:01\r\u001b[K     |████▎                           | 276kB 16.6MB/s eta 0:00:01\r\u001b[K     |████▍                           | 286kB 16.6MB/s eta 0:00:01\r\u001b[K     |████▌                           | 296kB 16.6MB/s eta 0:00:01\r\u001b[K     |████▊                           | 307kB 16.6MB/s eta 0:00:01\r\u001b[K     |████▉                           | 317kB 16.6MB/s eta 0:00:01\r\u001b[K     |█████                           | 327kB 16.6MB/s eta 0:00:01\r\u001b[K     |█████▏                          | 337kB 16.6MB/s eta 0:00:01\r\u001b[K     |█████▎                          | 348kB 16.6MB/s eta 0:00:01\r\u001b[K     |█████▌                          | 358kB 16.6MB/s eta 0:00:01\r\u001b[K     |█████▋                          | 368kB 16.6MB/s eta 0:00:01\r\u001b[K     |█████▉                          | 378kB 16.6MB/s eta 0:00:01\r\u001b[K     |██████                          | 389kB 16.6MB/s eta 0:00:01\r\u001b[K     |██████▏                         | 399kB 16.6MB/s eta 0:00:01\r\u001b[K     |██████▎                         | 409kB 16.6MB/s eta 0:00:01\r\u001b[K     |██████▍                         | 419kB 16.6MB/s eta 0:00:01\r\u001b[K     |██████▋                         | 430kB 16.6MB/s eta 0:00:01\r\u001b[K     |██████▊                         | 440kB 16.6MB/s eta 0:00:01\r\u001b[K     |███████                         | 450kB 16.6MB/s eta 0:00:01\r\u001b[K     |███████                         | 460kB 16.6MB/s eta 0:00:01\r\u001b[K     |███████▏                        | 471kB 16.6MB/s eta 0:00:01\r\u001b[K     |███████▍                        | 481kB 16.6MB/s eta 0:00:01\r\u001b[K     |███████▌                        | 491kB 16.6MB/s eta 0:00:01\r\u001b[K     |███████▊                        | 501kB 16.6MB/s eta 0:00:01\r\u001b[K     |███████▉                        | 512kB 16.6MB/s eta 0:00:01\r\u001b[K     |████████                        | 522kB 16.6MB/s eta 0:00:01\r\u001b[K     |████████▏                       | 532kB 16.6MB/s eta 0:00:01\r\u001b[K     |████████▎                       | 542kB 16.6MB/s eta 0:00:01\r\u001b[K     |████████▌                       | 552kB 16.6MB/s eta 0:00:01\r\u001b[K     |████████▋                       | 563kB 16.6MB/s eta 0:00:01\r\u001b[K     |████████▉                       | 573kB 16.6MB/s eta 0:00:01\r\u001b[K     |█████████                       | 583kB 16.6MB/s eta 0:00:01\r\u001b[K     |█████████                       | 593kB 16.6MB/s eta 0:00:01\r\u001b[K     |█████████▎                      | 604kB 16.6MB/s eta 0:00:01\r\u001b[K     |█████████▍                      | 614kB 16.6MB/s eta 0:00:01\r\u001b[K     |█████████▋                      | 624kB 16.6MB/s eta 0:00:01\r\u001b[K     |█████████▊                      | 634kB 16.6MB/s eta 0:00:01\r\u001b[K     |█████████▉                      | 645kB 16.6MB/s eta 0:00:01\r\u001b[K     |██████████                      | 655kB 16.6MB/s eta 0:00:01\r\u001b[K     |██████████▏                     | 665kB 16.6MB/s eta 0:00:01\r\u001b[K     |██████████▍                     | 675kB 16.6MB/s eta 0:00:01\r\u001b[K     |██████████▌                     | 686kB 16.6MB/s eta 0:00:01\r\u001b[K     |██████████▋                     | 696kB 16.6MB/s eta 0:00:01\r\u001b[K     |██████████▉                     | 706kB 16.6MB/s eta 0:00:01\r\u001b[K     |███████████                     | 716kB 16.6MB/s eta 0:00:01\r\u001b[K     |███████████▏                    | 727kB 16.6MB/s eta 0:00:01\r\u001b[K     |███████████▎                    | 737kB 16.6MB/s eta 0:00:01\r\u001b[K     |███████████▍                    | 747kB 16.6MB/s eta 0:00:01\r\u001b[K     |███████████▋                    | 757kB 16.6MB/s eta 0:00:01\r\u001b[K     |███████████▊                    | 768kB 16.6MB/s eta 0:00:01\r\u001b[K     |████████████                    | 778kB 16.6MB/s eta 0:00:01\r\u001b[K     |████████████                    | 788kB 16.6MB/s eta 0:00:01\r\u001b[K     |████████████▎                   | 798kB 16.6MB/s eta 0:00:01\r\u001b[K     |████████████▍                   | 808kB 16.6MB/s eta 0:00:01\r\u001b[K     |████████████▌                   | 819kB 16.6MB/s eta 0:00:01\r\u001b[K     |████████████▊                   | 829kB 16.6MB/s eta 0:00:01\r\u001b[K     |████████████▉                   | 839kB 16.6MB/s eta 0:00:01\r\u001b[K     |█████████████                   | 849kB 16.6MB/s eta 0:00:01\r\u001b[K     |█████████████▏                  | 860kB 16.6MB/s eta 0:00:01\r\u001b[K     |█████████████▎                  | 870kB 16.6MB/s eta 0:00:01\r\u001b[K     |█████████████▌                  | 880kB 16.6MB/s eta 0:00:01\r\u001b[K     |█████████████▋                  | 890kB 16.6MB/s eta 0:00:01\r\u001b[K     |█████████████▉                  | 901kB 16.6MB/s eta 0:00:01\r\u001b[K     |██████████████                  | 911kB 16.6MB/s eta 0:00:01\r\u001b[K     |██████████████                  | 921kB 16.6MB/s eta 0:00:01\r\u001b[K     |██████████████▎                 | 931kB 16.6MB/s eta 0:00:01\r\u001b[K     |██████████████▍                 | 942kB 16.6MB/s eta 0:00:01\r\u001b[K     |██████████████▋                 | 952kB 16.6MB/s eta 0:00:01\r\u001b[K     |██████████████▊                 | 962kB 16.6MB/s eta 0:00:01\r\u001b[K     |███████████████                 | 972kB 16.6MB/s eta 0:00:01\r\u001b[K     |███████████████                 | 983kB 16.6MB/s eta 0:00:01\r\u001b[K     |███████████████▏                | 993kB 16.6MB/s eta 0:00:01\r\u001b[K     |███████████████▍                | 1.0MB 16.6MB/s eta 0:00:01\r\u001b[K     |███████████████▌                | 1.0MB 16.6MB/s eta 0:00:01\r\u001b[K     |███████████████▊                | 1.0MB 16.6MB/s eta 0:00:01\r\u001b[K     |███████████████▉                | 1.0MB 16.6MB/s eta 0:00:01\r\u001b[K     |████████████████                | 1.0MB 16.6MB/s eta 0:00:01\r\u001b[K     |████████████████▏               | 1.1MB 16.6MB/s eta 0:00:01\r\u001b[K     |████████████████▎               | 1.1MB 16.6MB/s eta 0:00:01\r\u001b[K     |████████████████▌               | 1.1MB 16.6MB/s eta 0:00:01\r\u001b[K     |████████████████▋               | 1.1MB 16.6MB/s eta 0:00:01\r\u001b[K     |████████████████▊               | 1.1MB 16.6MB/s eta 0:00:01\r\u001b[K     |█████████████████               | 1.1MB 16.6MB/s eta 0:00:01\r\u001b[K     |█████████████████               | 1.1MB 16.6MB/s eta 0:00:01\r\u001b[K     |█████████████████▎              | 1.1MB 16.6MB/s eta 0:00:01\r\u001b[K     |█████████████████▍              | 1.1MB 16.6MB/s eta 0:00:01\r\u001b[K     |█████████████████▋              | 1.1MB 16.6MB/s eta 0:00:01\r\u001b[K     |█████████████████▊              | 1.2MB 16.6MB/s eta 0:00:01\r\u001b[K     |█████████████████▉              | 1.2MB 16.6MB/s eta 0:00:01\r\u001b[K     |██████████████████              | 1.2MB 16.6MB/s eta 0:00:01\r\u001b[K     |██████████████████▏             | 1.2MB 16.6MB/s eta 0:00:01\r\u001b[K     |██████████████████▍             | 1.2MB 16.6MB/s eta 0:00:01\r\u001b[K     |██████████████████▌             | 1.2MB 16.6MB/s eta 0:00:01\r\u001b[K     |██████████████████▋             | 1.2MB 16.6MB/s eta 0:00:01\r\u001b[K     |██████████████████▉             | 1.2MB 16.6MB/s eta 0:00:01\r\u001b[K     |███████████████████             | 1.2MB 16.6MB/s eta 0:00:01\r\u001b[K     |███████████████████▏            | 1.2MB 16.6MB/s eta 0:00:01\r\u001b[K     |███████████████████▎            | 1.3MB 16.6MB/s eta 0:00:01\r\u001b[K     |███████████████████▍            | 1.3MB 16.6MB/s eta 0:00:01\r\u001b[K     |███████████████████▋            | 1.3MB 16.6MB/s eta 0:00:01\r\u001b[K     |███████████████████▊            | 1.3MB 16.6MB/s eta 0:00:01\r\u001b[K     |████████████████████            | 1.3MB 16.6MB/s eta 0:00:01\r\u001b[K     |████████████████████            | 1.3MB 16.6MB/s eta 0:00:01\r\u001b[K     |████████████████████▎           | 1.3MB 16.6MB/s eta 0:00:01\r\u001b[K     |████████████████████▍           | 1.3MB 16.6MB/s eta 0:00:01\r\u001b[K     |████████████████████▌           | 1.3MB 16.6MB/s eta 0:00:01\r\u001b[K     |████████████████████▊           | 1.4MB 16.6MB/s eta 0:00:01\r\u001b[K     |████████████████████▉           | 1.4MB 16.6MB/s eta 0:00:01\r\u001b[K     |█████████████████████           | 1.4MB 16.6MB/s eta 0:00:01\r\u001b[K     |█████████████████████▏          | 1.4MB 16.6MB/s eta 0:00:01\r\u001b[K     |█████████████████████▎          | 1.4MB 16.6MB/s eta 0:00:01\r\u001b[K     |█████████████████████▌          | 1.4MB 16.6MB/s eta 0:00:01\r\u001b[K     |█████████████████████▋          | 1.4MB 16.6MB/s eta 0:00:01\r\u001b[K     |█████████████████████▉          | 1.4MB 16.6MB/s eta 0:00:01\r\u001b[K     |██████████████████████          | 1.4MB 16.6MB/s eta 0:00:01\r\u001b[K     |██████████████████████          | 1.4MB 16.6MB/s eta 0:00:01\r\u001b[K     |██████████████████████▎         | 1.5MB 16.6MB/s eta 0:00:01\r\u001b[K     |██████████████████████▍         | 1.5MB 16.6MB/s eta 0:00:01\r\u001b[K     |██████████████████████▋         | 1.5MB 16.6MB/s eta 0:00:01\r\u001b[K     |██████████████████████▊         | 1.5MB 16.6MB/s eta 0:00:01\r\u001b[K     |██████████████████████▉         | 1.5MB 16.6MB/s eta 0:00:01\r\u001b[K     |███████████████████████         | 1.5MB 16.6MB/s eta 0:00:01\r\u001b[K     |███████████████████████▏        | 1.5MB 16.6MB/s eta 0:00:01\r\u001b[K     |███████████████████████▍        | 1.5MB 16.6MB/s eta 0:00:01\r\u001b[K     |███████████████████████▌        | 1.5MB 16.6MB/s eta 0:00:01\r\u001b[K     |███████████████████████▊        | 1.5MB 16.6MB/s eta 0:00:01\r\u001b[K     |███████████████████████▉        | 1.6MB 16.6MB/s eta 0:00:01\r\u001b[K     |████████████████████████        | 1.6MB 16.6MB/s eta 0:00:01\r\u001b[K     |████████████████████████▏       | 1.6MB 16.6MB/s eta 0:00:01\r\u001b[K     |████████████████████████▎       | 1.6MB 16.6MB/s eta 0:00:01\r\u001b[K     |████████████████████████▌       | 1.6MB 16.6MB/s eta 0:00:01\r\u001b[K     |████████████████████████▋       | 1.6MB 16.6MB/s eta 0:00:01\r\u001b[K     |████████████████████████▊       | 1.6MB 16.6MB/s eta 0:00:01\r\u001b[K     |█████████████████████████       | 1.6MB 16.6MB/s eta 0:00:01\r\u001b[K     |█████████████████████████       | 1.6MB 16.6MB/s eta 0:00:01\r\u001b[K     |█████████████████████████▎      | 1.6MB 16.6MB/s eta 0:00:01\r\u001b[K     |█████████████████████████▍      | 1.7MB 16.6MB/s eta 0:00:01\r\u001b[K     |█████████████████████████▌      | 1.7MB 16.6MB/s eta 0:00:01\r\u001b[K     |█████████████████████████▊      | 1.7MB 16.6MB/s eta 0:00:01\r\u001b[K     |█████████████████████████▉      | 1.7MB 16.6MB/s eta 0:00:01\r\u001b[K     |██████████████████████████      | 1.7MB 16.6MB/s eta 0:00:01\r\u001b[K     |██████████████████████████▏     | 1.7MB 16.6MB/s eta 0:00:01\r\u001b[K     |██████████████████████████▍     | 1.7MB 16.6MB/s eta 0:00:01\r\u001b[K     |██████████████████████████▌     | 1.7MB 16.6MB/s eta 0:00:01\r\u001b[K     |██████████████████████████▋     | 1.7MB 16.6MB/s eta 0:00:01\r\u001b[K     |██████████████████████████▉     | 1.8MB 16.6MB/s eta 0:00:01\r\u001b[K     |███████████████████████████     | 1.8MB 16.6MB/s eta 0:00:01\r\u001b[K     |███████████████████████████▏    | 1.8MB 16.6MB/s eta 0:00:01\r\u001b[K     |███████████████████████████▎    | 1.8MB 16.6MB/s eta 0:00:01\r\u001b[K     |███████████████████████████▍    | 1.8MB 16.6MB/s eta 0:00:01\r\u001b[K     |███████████████████████████▋    | 1.8MB 16.6MB/s eta 0:00:01\r\u001b[K     |███████████████████████████▊    | 1.8MB 16.6MB/s eta 0:00:01\r\u001b[K     |████████████████████████████    | 1.8MB 16.6MB/s eta 0:00:01\r\u001b[K     |████████████████████████████    | 1.8MB 16.6MB/s eta 0:00:01\r\u001b[K     |████████████████████████████▏   | 1.8MB 16.6MB/s eta 0:00:01\r\u001b[K     |████████████████████████████▍   | 1.9MB 16.6MB/s eta 0:00:01\r\u001b[K     |████████████████████████████▌   | 1.9MB 16.6MB/s eta 0:00:01\r\u001b[K     |████████████████████████████▊   | 1.9MB 16.6MB/s eta 0:00:01\r\u001b[K     |████████████████████████████▉   | 1.9MB 16.6MB/s eta 0:00:01\r\u001b[K     |█████████████████████████████   | 1.9MB 16.6MB/s eta 0:00:01\r\u001b[K     |█████████████████████████████▏  | 1.9MB 16.6MB/s eta 0:00:01\r\u001b[K     |█████████████████████████████▎  | 1.9MB 16.6MB/s eta 0:00:01\r\u001b[K     |█████████████████████████████▌  | 1.9MB 16.6MB/s eta 0:00:01\r\u001b[K     |█████████████████████████████▋  | 1.9MB 16.6MB/s eta 0:00:01\r\u001b[K     |█████████████████████████████▉  | 1.9MB 16.6MB/s eta 0:00:01\r\u001b[K     |██████████████████████████████  | 2.0MB 16.6MB/s eta 0:00:01\r\u001b[K     |██████████████████████████████  | 2.0MB 16.6MB/s eta 0:00:01\r\u001b[K     |██████████████████████████████▎ | 2.0MB 16.6MB/s eta 0:00:01\r\u001b[K     |██████████████████████████████▍ | 2.0MB 16.6MB/s eta 0:00:01\r\u001b[K     |██████████████████████████████▋ | 2.0MB 16.6MB/s eta 0:00:01\r\u001b[K     |██████████████████████████████▊ | 2.0MB 16.6MB/s eta 0:00:01\r\u001b[K     |██████████████████████████████▉ | 2.0MB 16.6MB/s eta 0:00:01\r\u001b[K     |███████████████████████████████ | 2.0MB 16.6MB/s eta 0:00:01\r\u001b[K     |███████████████████████████████▏| 2.0MB 16.6MB/s eta 0:00:01\r\u001b[K     |███████████████████████████████▍| 2.0MB 16.6MB/s eta 0:00:01\r\u001b[K     |███████████████████████████████▌| 2.1MB 16.6MB/s eta 0:00:01\r\u001b[K     |███████████████████████████████▊| 2.1MB 16.6MB/s eta 0:00:01\r\u001b[K     |███████████████████████████████▉| 2.1MB 16.6MB/s eta 0:00:01\r\u001b[K     |████████████████████████████████| 2.1MB 16.6MB/s eta 0:00:01\r\u001b[K     |████████████████████████████████| 2.1MB 16.6MB/s \n",
            "\u001b[?25hRequirement already satisfied: numpy in /usr/local/lib/python3.6/dist-packages (from mitdeeplearning) (1.19.5)\n",
            "Requirement already satisfied: regex in /usr/local/lib/python3.6/dist-packages (from mitdeeplearning) (2019.12.20)\n",
            "Requirement already satisfied: tqdm in /usr/local/lib/python3.6/dist-packages (from mitdeeplearning) (4.41.1)\n",
            "Requirement already satisfied: gym in /usr/local/lib/python3.6/dist-packages (from mitdeeplearning) (0.17.3)\n",
            "Requirement already satisfied: cloudpickle<1.7.0,>=1.2.0 in /usr/local/lib/python3.6/dist-packages (from gym->mitdeeplearning) (1.3.0)\n",
            "Requirement already satisfied: scipy in /usr/local/lib/python3.6/dist-packages (from gym->mitdeeplearning) (1.4.1)\n",
            "Requirement already satisfied: pyglet<=1.5.0,>=1.4.0 in /usr/local/lib/python3.6/dist-packages (from gym->mitdeeplearning) (1.5.0)\n",
            "Requirement already satisfied: future in /usr/local/lib/python3.6/dist-packages (from pyglet<=1.5.0,>=1.4.0->gym->mitdeeplearning) (0.16.0)\n",
            "Building wheels for collected packages: mitdeeplearning\n",
            "  Building wheel for mitdeeplearning (setup.py) ... \u001b[?25l\u001b[?25hdone\n",
            "  Created wheel for mitdeeplearning: filename=mitdeeplearning-0.2.0-cp36-none-any.whl size=2115443 sha256=437deacbb124dc5079cda8397219f23444ad42e832a4f0a61c90ca4f9d691c3b\n",
            "  Stored in directory: /root/.cache/pip/wheels/af/dc/2a/5c3633135e7e4ef4fd31463cfa1942cb1bae7486ab94e7a2ad\n",
            "Successfully built mitdeeplearning\n",
            "Installing collected packages: mitdeeplearning\n",
            "Successfully installed mitdeeplearning-0.2.0\n"
          ],
          "name": "stdout"
        }
      ]
    },
    {
      "cell_type": "markdown",
      "metadata": {
        "id": "iMEqHqC0fs3i"
      },
      "source": [
        "## Load the Dataset\r\n",
        "\r\n",
        "Load our custom made dataset of Joe Hisaishi songs.  Unlike the lab, we don't train on songs in ABC format.  We instead train on songs in the MIDI format.  We decided to use MIDI because it captures a wider range of octaves while also allowing the model to not only learn to play single notes but chords also.\r\n",
        "\r\n",
        "We use the music21 library to read in MIDI songs and then tokenize them to fed into the RNN.  A lot of the code used to manipulate MIDI files was borrowed from: https://towardsdatascience.com/how-to-generate-music-using-a-lstm-neural-network-in-keras-68786834d4c5"
      ]
    },
    {
      "cell_type": "code",
      "metadata": {
        "colab": {
          "base_uri": "https://localhost:8080/"
        },
        "id": "CE-op173xzRY",
        "outputId": "5c21a01f-d75c-4370-e438-959934cceef2"
      },
      "source": [
        "# Install some libraries to work with MIDI files\r\n",
        "!pip install music21\r\n",
        "from music21 import converter, instrument, note, chord, stream\r\n",
        "\r\n",
        "# Mount google drive\r\n",
        "from google.colab import drive\r\n",
        "drive.mount('/content/gdrive/')\r\n",
        "\r\n",
        "import glob\r\n",
        "\r\n",
        "notes = []\r\n",
        "\r\n",
        "start_indices = [0]\r\n",
        "\r\n",
        "# Read in the files from the Joe Hisaishi dataset\r\n",
        "\r\n",
        "# Remember to rename the directory when running this cell\r\n",
        "for file in glob.glob(\"/content/gdrive/My Drive/midi_songs/*.mid\"): \r\n",
        "  midi = converter.parse(file)\r\n",
        "  notes_to_parse = None    \r\n",
        "  parts = instrument.partitionByInstrument(midi)  \r\n",
        "\r\n",
        "  # Parse the instrument parts to extract the notes\r\n",
        "  if parts: \r\n",
        "      notes_to_parse = parts.parts[0].recurse()\r\n",
        "  else: \r\n",
        "      notes_to_parse = midi.flat.notes    \r\n",
        "\r\n",
        "  for element in notes_to_parse:\r\n",
        "    if isinstance(element, note.Note):\r\n",
        "        notes.append(str(element.pitch))\r\n",
        "    elif isinstance(element, chord.Chord):\r\n",
        "        notes.append('.'.join(str(n) for n in element.normalOrder))\r\n",
        "\r\n",
        "  # Separate the songs with a \"\\n\\n\"\r\n",
        "  notes.append('\\n')\r\n",
        "  notes.append('\\n')\r\n",
        "\r\n",
        "  start_indices.append(len(notes))"
      ],
      "execution_count": null,
      "outputs": [
        {
          "output_type": "stream",
          "text": [
            "Requirement already satisfied: music21 in /usr/local/lib/python3.6/dist-packages (5.5.0)\n",
            "Drive already mounted at /content/gdrive/; to attempt to forcibly remount, call drive.mount(\"/content/gdrive/\", force_remount=True).\n"
          ],
          "name": "stdout"
        }
      ]
    },
    {
      "cell_type": "code",
      "metadata": {
        "id": "CjCRohX49MSG"
      },
      "source": [
        "# A function that converts tokenized music to midi understable format\r\n",
        "# Code borrowed from https://towardsdatascience.com/how-to-generate-music-using-a-lstm-neural-network-in-keras-68786834d4c5\r\n",
        "\r\n",
        "def convertNotes2MIDI(prediction_output):\r\n",
        "  offset = 0\r\n",
        "  output_notes = []\r\n",
        "  for pattern in prediction_output:\r\n",
        "    if ('.' in pattern) or pattern.isdigit():\r\n",
        "        notes_in_chord = pattern.split('.')\r\n",
        "        notes = []\r\n",
        "        for current_note in notes_in_chord:\r\n",
        "            new_note = note.Note(int(current_note))\r\n",
        "            new_note.storedInstrument = instrument.Piano()\r\n",
        "            notes.append(new_note)\r\n",
        "        new_chord = chord.Chord(notes)\r\n",
        "        new_chord.offset = offset\r\n",
        "        output_notes.append(new_chord)\r\n",
        "    # pattern is a note\r\n",
        "    else:\r\n",
        "        new_note = note.Note(pattern)\r\n",
        "        new_note.offset = offset\r\n",
        "        new_note.storedInstrument = instrument.Piano()\r\n",
        "        output_notes.append(new_note)    # increase offset each iteration so that notes do not stack\r\n",
        "    offset += 0.5\r\n",
        "\r\n",
        "  return output_notes\r\n",
        "\r\n",
        "# Function that converts back from notes to an output MIDI file\r\n",
        "\r\n",
        "  def convertMIDI2audio(output_notes, filename='temp.mid'):\r\n",
        "    midi_stream = stream.Stream(output_notes)\r\n",
        "    midi_stream.write('midi', fp=filename)"
      ],
      "execution_count": null,
      "outputs": []
    },
    {
      "cell_type": "code",
      "metadata": {
        "colab": {
          "base_uri": "https://localhost:8080/"
        },
        "id": "24zT3_gWDTOe",
        "outputId": "3adacc85-fa3e-4681-9123-317999b743eb"
      },
      "source": [
        "# Get the vocabulary\r\n",
        "\r\n",
        "vocab = sorted(set(notes))\r\n",
        "print(\"There are\", len(vocab), \"unique characters in the dataset\")"
      ],
      "execution_count": null,
      "outputs": [
        {
          "output_type": "stream",
          "text": [
            "There are 202 unique characters in the dataset\n"
          ],
          "name": "stdout"
        }
      ]
    },
    {
      "cell_type": "markdown",
      "metadata": {
        "id": "LFjSVAlWzf-N"
      },
      "source": [
        "## Vectorize the song\n",
        "\n",
        "We'll generate two lookup tables: one that maps characters to numbers, and a second that maps numbers back to characters. Recall that we just identified the unique characters present in the text."
      ]
    },
    {
      "cell_type": "code",
      "metadata": {
        "id": "IalZLbvOzf-F"
      },
      "source": [
        "### Define numerical representation of text ###\n",
        "\n",
        "# Create a mapping from character to unique index.\n",
        "# For example, to get the index of the character \"d\", \n",
        "#   we can evaluate `char2idx[\"d\"]`.  \n",
        "char2idx = {u:i for i, u in enumerate(vocab)}\n",
        "\n",
        "# Create a mapping from indices to characters. This is\n",
        "#   the inverse of char2idx and allows us to convert back\n",
        "#   from unique index to the character in our vocabulary.\n",
        "idx2char = np.array(vocab)"
      ],
      "execution_count": null,
      "outputs": []
    },
    {
      "cell_type": "markdown",
      "metadata": {
        "id": "tZfqhkYCymwX"
      },
      "source": [
        "Let's take a look at the numerical representation of the notes and chord in our dataset!"
      ]
    },
    {
      "cell_type": "code",
      "metadata": {
        "colab": {
          "base_uri": "https://localhost:8080/"
        },
        "id": "FYyNlCNXymwY",
        "outputId": "76ed83c2-eb5b-4295-86a2-65e02da7a3cc"
      },
      "source": [
        "print('{')\n",
        "for char,_ in zip(char2idx, range(20)):\n",
        "    print('  {:4s}: {:3d},'.format(repr(char), char2idx[char]))\n",
        "print('  ...\\n}')"
      ],
      "execution_count": null,
      "outputs": [
        {
          "output_type": "stream",
          "text": [
            "{\n",
            "  '\\n':   0,\n",
            "  '0' :   1,\n",
            "  '0.2':   2,\n",
            "  '0.2.4.7':   3,\n",
            "  '0.2.5':   4,\n",
            "  '0.2.6':   5,\n",
            "  '0.2.7':   6,\n",
            "  '0.3':   7,\n",
            "  '0.3.7':   8,\n",
            "  '0.4':   9,\n",
            "  '0.4.6':  10,\n",
            "  '0.4.7':  11,\n",
            "  '0.5':  12,\n",
            "  '0.6':  13,\n",
            "  '1' :  14,\n",
            "  '1.2':  15,\n",
            "  '1.3':  16,\n",
            "  '1.4':  17,\n",
            "  '1.4.6':  18,\n",
            "  '1.4.7':  19,\n",
            "  ...\n",
            "}\n"
          ],
          "name": "stdout"
        }
      ]
    },
    {
      "cell_type": "code",
      "metadata": {
        "id": "g-LnKyu4dczc"
      },
      "source": [
        "### Vectorize the songs string ###\n",
        "\n",
        "def vectorize_string(string):\n",
        "  return np.array([char2idx[char] for char in string])\n",
        "\n",
        "vectorized_songs = vectorize_string(notes)"
      ],
      "execution_count": null,
      "outputs": []
    },
    {
      "cell_type": "markdown",
      "metadata": {
        "id": "IqxpSuZ1w-ub"
      },
      "source": [
        "We can also look at how a part of the text is mapped to an integer representation.  A note is represented as 'A2' for example, where 'A' represents the key and '2' represents the octave.  A chord on the other is represented as '9.11.2' to signify the keys that will be played together."
      ]
    },
    {
      "cell_type": "code",
      "metadata": {
        "colab": {
          "base_uri": "https://localhost:8080/"
        },
        "id": "l1VKcQHcymwb",
        "outputId": "0ada0f2a-2ab0-4dc4-8f11-3a18807ac5d4"
      },
      "source": [
        "print ('{} ---- characters mapped to int ----> {}'.format(repr(notes[100:110]), vectorized_songs[100:110]))\n",
        "# check that vectorized_songs is a numpy array\n",
        "assert isinstance(vectorized_songs, np.ndarray), \"returned result should be a numpy array\""
      ],
      "execution_count": null,
      "outputs": [
        {
          "output_type": "stream",
          "text": [
            "['9.1', 'A2', '9.1', 'E3', '9.1', 'A3', '9.1', 'E3', '9.11.2', 'G2'] ---- characters mapped to int ----> [129 136 129 176 129 137 129 176 133 196]\n"
          ],
          "name": "stdout"
        }
      ]
    },
    {
      "cell_type": "markdown",
      "metadata": {
        "id": "hgsVvVxnymwf"
      },
      "source": [
        "## Create training examples and targets\n"
      ]
    },
    {
      "cell_type": "code",
      "metadata": {
        "id": "LF-N8F7BoDRi"
      },
      "source": [
        "### Batch definition to create training examples ###\n",
        "\n",
        "def get_batch(vectorized_songs, seq_length, batch_size):\n",
        "  # the length of the vectorized songs string\n",
        "  n = vectorized_songs.shape[0] - 1\n",
        "  # randomly choose the starting indices for the examples in the training batch\n",
        "  idx = np.random.choice(n-seq_length, batch_size)\n",
        "\n",
        "  '''construct a list of input sequences for the training batch'''\n",
        "  input_batch = [vectorized_songs[start_idx: start_idx+seq_length] for start_idx in idx]\n",
        "  '''construct a list of output sequences for the training batch'''\n",
        "  output_batch = [vectorized_songs[start_idx+1: start_idx+seq_length+1] for start_idx in idx]\n",
        "\n",
        "  # x_batch, y_batch provide the true inputs and targets for network training\n",
        "  x_batch = np.reshape(input_batch, [batch_size, seq_length])\n",
        "  y_batch = np.reshape(output_batch, [batch_size, seq_length])\n",
        "  return x_batch, y_batch"
      ],
      "execution_count": null,
      "outputs": []
    },
    {
      "cell_type": "code",
      "metadata": {
        "colab": {
          "base_uri": "https://localhost:8080/"
        },
        "id": "0eBu9WZG84i0",
        "outputId": "8de3cd45-b797-49d6-c143-e0b2da389764"
      },
      "source": [
        "x_batch, y_batch = get_batch(vectorized_songs, seq_length=5, batch_size=1)\n",
        "\n",
        "for i, (input_idx, target_idx) in enumerate(zip(np.squeeze(x_batch), np.squeeze(y_batch))):\n",
        "    print(\"Step {:3d}\".format(i))\n",
        "    print(\"  input: {} ({:s})\".format(input_idx, repr(idx2char[input_idx])))\n",
        "    print(\"  expected output: {} ({:s})\".format(target_idx, repr(idx2char[target_idx])))"
      ],
      "execution_count": null,
      "outputs": [
        {
          "output_type": "stream",
          "text": [
            "Step   0\n",
            "  input: 159 ('C5')\n",
            "  expected output: 139 ('A5')\n",
            "Step   1\n",
            "  input: 139 ('A5')\n",
            "  expected output: 138 ('A4')\n",
            "Step   2\n",
            "  input: 138 ('A4')\n",
            "  expected output: 159 ('C5')\n",
            "Step   3\n",
            "  input: 159 ('C5')\n",
            "  expected output: 139 ('A5')\n",
            "Step   4\n",
            "  input: 139 ('A5')\n",
            "  expected output: 148 ('B4')\n"
          ],
          "name": "stdout"
        }
      ]
    },
    {
      "cell_type": "markdown",
      "metadata": {
        "id": "r6oUuElIMgVx"
      },
      "source": [
        "## The Recurrent Neural Network (RNN) model"
      ]
    },
    {
      "cell_type": "markdown",
      "metadata": {
        "id": "m8gPwEjRzf-Z"
      },
      "source": [
        "Our architecture is as illustrated below.  We built upon the model introduced in lecture.  **Instead of using a single LSTM layer we use two LSTMs in sequence.**  We did this in the hope that one LSTM could learn features corresponding to short range musical melodies while the other LSTM could use these features to learn long range dependencies.\n",
        "\n",
        "\n",
        "![picture](https://drive.google.com/uc?id=175ZIfioL-PpyMWCZAsKOHBNYuVI_WoBj)"
      ]
    },
    {
      "cell_type": "markdown",
      "metadata": {
        "id": "rlaOqndqBmJo"
      },
      "source": [
        "### Define the RNN model\n",
        "\n",
        "Now, we will define a function that we will use to actually build the model."
      ]
    },
    {
      "cell_type": "code",
      "metadata": {
        "id": "8DsWzojvkbc7"
      },
      "source": [
        "def LSTM(rnn_units): \n",
        "  return tf.keras.layers.LSTM(\n",
        "    rnn_units, \n",
        "    return_sequences=True, \n",
        "    recurrent_initializer='glorot_uniform',\n",
        "    recurrent_activation='sigmoid',\n",
        "    stateful=True,\n",
        "    dropout=0.6\n",
        "  )"
      ],
      "execution_count": null,
      "outputs": []
    },
    {
      "cell_type": "code",
      "metadata": {
        "id": "MtCrdfzEI2N0"
      },
      "source": [
        "### Defining the RNN Model ###\n",
        "\n",
        "'''TODO: Add LSTM and Dense layers to define the RNN model using the Sequential API.'''\n",
        "def build_model(vocab_size, embedding_dim, rnn_units, batch_size):\n",
        "  model = tf.keras.Sequential([\n",
        "    # Layer 1: Embedding layer to transform indices into dense vectors \n",
        "    #   of a fixed embedding size\n",
        "    tf.keras.layers.Embedding(vocab_size, embedding_dim, batch_input_shape=[batch_size, None]),\n",
        "\n",
        "    # Layer 2: LSTM with `rnn_units` number of units. \n",
        "    # TODO: Call the LSTM function defined above to add this layer.\n",
        "    LSTM(rnn_units=rnn_units*2),\n",
        "\n",
        "    LSTM(rnn_units=rnn_units),\n",
        "\n",
        "    # Layer 3: Dense (fully-connected) layer that transforms the LSTM output\n",
        "    #   into the vocabulary size. \n",
        "    # TODO: Add the Dense layer.\n",
        "    tf.keras.layers.Dense(vocab_size)\n",
        "  ])\n",
        "\n",
        "  return model"
      ],
      "execution_count": null,
      "outputs": []
    },
    {
      "cell_type": "markdown",
      "metadata": {
        "id": "LJL0Q0YPY6Ee"
      },
      "source": [
        "## Training the model: loss and training operations\n",
        "\n",
        "To train our model on this classification task, we can use a form of the `crossentropy` loss (negative log likelihood loss). Specifically, we will use the [`sparse_categorical_crossentropy`](https://www.tensorflow.org/api_docs/python/tf/keras/losses/sparse_categorical_crossentropy) loss, as it utilizes integer targets for categorical classification tasks. We will want to compute the loss using the true targets -- the `labels` -- and the predicted targets -- the `logits`.\n",
        "\n",
        "Let's first compute the loss using our example predictions from the untrained model: "
      ]
    },
    {
      "cell_type": "code",
      "metadata": {
        "id": "4HrXTACTdzY-"
      },
      "source": [
        "### Defining the loss function ###\n",
        "\n",
        "def compute_loss(labels, logits):\n",
        "  loss = tf.keras.losses.sparse_categorical_crossentropy(labels, logits, from_logits=True) # TODO\n",
        "  return loss"
      ],
      "execution_count": null,
      "outputs": []
    },
    {
      "cell_type": "markdown",
      "metadata": {
        "id": "0Seh7e6eRqd7"
      },
      "source": [
        "## Hyperparameters for our Model"
      ]
    },
    {
      "cell_type": "code",
      "metadata": {
        "id": "JQWUUhKotkAY"
      },
      "source": [
        "### Hyperparameter setting and optimization ###\n",
        "\n",
        "# Optimization parameters:\n",
        "num_training_iterations = 2000  # Increase this to train longer\n",
        "batch_size = 64  # Experiment between 1 and 64\n",
        "seq_length = 150  # Experiment between 50 and 500\n",
        "learning_rate = 1e-3  # Experiment between 1e-5 and 1e-1\n",
        "\n",
        "# Model parameters: \n",
        "vocab_size = len(vocab)\n",
        "embedding_dim = 128\n",
        "rnn_units = 512  # Experiment between 1 and 2048\n",
        "\n",
        "# Checkpoint location: \n",
        "checkpoint_dir = './training_checkpoints'\n",
        "checkpoint_prefix = os.path.join(checkpoint_dir, \"my_ckpt\")"
      ],
      "execution_count": null,
      "outputs": []
    },
    {
      "cell_type": "code",
      "metadata": {
        "colab": {
          "base_uri": "https://localhost:8080/",
          "height": 558
        },
        "id": "F31vzJ_u66cb",
        "outputId": "b731822a-e380-4445-c471-3fb5a2f2bad3"
      },
      "source": [
        "### Define optimizer and training operation ###\n",
        "\n",
        "'''TODO: instantiate a new model for training using the `build_model`\n",
        "  function and the hyperparameters created above.'''\n",
        "model = build_model(len(vocab), embedding_dim=embedding_dim, rnn_units=rnn_units, batch_size=batch_size)\n",
        "\n",
        "'''TODO: instantiate an optimizer with its learning rate.\n",
        "  Checkout the tensorflow website for a list of supported optimizers.\n",
        "  https://www.tensorflow.org/api_docs/python/tf/keras/optimizers/\n",
        "  Try using the Adam optimizer to start.'''\n",
        "optimizer = tf.keras.optimizers.Adam(learning_rate=learning_rate)\n",
        "\n",
        "@tf.function\n",
        "def train_step(x, y): \n",
        "  # Use tf.GradientTape()\n",
        "  with tf.GradientTape() as tape:\n",
        "  \n",
        "    '''TODO: feed the current input into the model and generate predictions'''\n",
        "    y_hat = model(x)\n",
        "  \n",
        "    '''TODO: compute the loss!'''\n",
        "    loss = compute_loss(y, y_hat)\n",
        "\n",
        "  # Now, compute the gradients \n",
        "  '''TODO: complete the function call for gradient computation. \n",
        "      Remember that we want the gradient of the loss with respect all \n",
        "      of the model parameters. \n",
        "      HINT: use `model.trainable_variables` to get a list of all model\n",
        "      parameters.'''\n",
        "  grads = tape.gradient(loss, model.trainable_variables)\n",
        "  \n",
        "  # Apply the gradients to the optimizer so it can update the model accordingly\n",
        "  optimizer.apply_gradients(zip(grads, model.trainable_variables))\n",
        "  return loss\n",
        "\n",
        "##################\n",
        "# Begin training!#\n",
        "##################\n",
        "\n",
        "history = []\n",
        "plotter = mdl.util.PeriodicPlotter(sec=2, xlabel='Iterations', ylabel='Loss')\n",
        "if hasattr(tqdm, '_instances'): tqdm._instances.clear() # clear if it exists\n",
        "\n",
        "for iter in tqdm(range(num_training_iterations)):\n",
        "\n",
        "  # Grab a batch and propagate it through the network\n",
        "  x_batch, y_batch = get_batch(vectorized_songs, seq_length, batch_size)\n",
        "  loss = train_step(x_batch, y_batch)\n",
        "\n",
        "  # Update the progress bar\n",
        "  history.append(loss.numpy().mean())\n",
        "  plotter.plot(history)\n",
        "\n",
        "  # Update the model with the changed weights!\n",
        "  if iter % 100 == 0:     \n",
        "    model.save_weights(checkpoint_prefix)\n",
        "    \n",
        "# Save the trained model and the weights\n",
        "model.save_weights(checkpoint_prefix)\n"
      ],
      "execution_count": null,
      "outputs": [
        {
          "output_type": "display_data",
          "data": {
            "image/png": "[encoded data removed]",
            "text/plain": [
              "<Figure size 432x288 with 1 Axes>"
            ]
          },
          "metadata": {
            "tags": [],
            "image/png": {
              "width": 376,
              "height": 261
            }
          }
        },
        {
          "output_type": "stream",
          "text": [
            "100%|██████████| 2000/2000 [05:29<00:00,  6.06it/s]\n"
          ],
          "name": "stderr"
        },
        {
          "output_type": "display_data",
          "data": {
            "image/png": "[encoded data removed]",
            "text/plain": [
              "<Figure size 432x288 with 1 Axes>"
            ]
          },
          "metadata": {
            "tags": [],
            "image/png": {
              "width": 376,
              "height": 261
            },
            "needs_background": "light"
          }
        }
      ]
    },
    {
      "cell_type": "markdown",
      "metadata": {
        "id": "kKkD5M6eoSiN"
      },
      "source": [
        "## Generate music using the RNN model\n"
      ]
    },
    {
      "cell_type": "code",
      "metadata": {
        "colab": {
          "base_uri": "https://localhost:8080/"
        },
        "id": "LycQ-ot_jjyu",
        "outputId": "a595fda5-38d9-45e4-f4cb-b332651bf5b5"
      },
      "source": [
        "'''TODO: Rebuild the model using a batch_size=1'''\n",
        "model = build_model(len(vocab), embedding_dim=embedding_dim, rnn_units=rnn_units, batch_size=1)\n",
        "\n",
        "# Restore the model weights for the last checkpoint after training\n",
        "model.load_weights(tf.train.latest_checkpoint(checkpoint_dir))\n",
        "model.build(tf.TensorShape([1, None]))\n",
        "\n",
        "model.summary()"
      ],
      "execution_count": null,
      "outputs": [
        {
          "output_type": "stream",
          "text": [
            "Model: \"sequential_16\"\n",
            "_________________________________________________________________\n",
            "Layer (type)                 Output Shape              Param #   \n",
            "=================================================================\n",
            "embedding_17 (Embedding)     (1, None, 128)            25856     \n",
            "_________________________________________________________________\n",
            "lstm_32 (LSTM)               (1, None, 1024)           4722688   \n",
            "_________________________________________________________________\n",
            "lstm_33 (LSTM)               (1, None, 512)            3147776   \n",
            "_________________________________________________________________\n",
            "dense_16 (Dense)             (1, None, 202)            103626    \n",
            "=================================================================\n",
            "Total params: 7,999,946\n",
            "Trainable params: 7,999,946\n",
            "Non-trainable params: 0\n",
            "_________________________________________________________________\n"
          ],
          "name": "stdout"
        }
      ]
    },
    {
      "cell_type": "code",
      "metadata": {
        "id": "WvuwZBX5Ogfd"
      },
      "source": [
        "### Prediction of a generated song ###\n",
        "\n",
        "def generate_text(model, start_string, generation_length=1000):\n",
        "  # Evaluation step (generating ABC text using the learned RNN model)\n",
        "\n",
        "  '''TODO: convert the start string to numbers (vectorize)'''\n",
        "  input_eval = [char2idx[start_string]]\n",
        "  input_eval = tf.expand_dims(input_eval, 0)\n",
        "\n",
        "  # Empty string to store our results\n",
        "  text_generated = []\n",
        "\n",
        "  # Here batch size == 1\n",
        "  model.reset_states()\n",
        "  tqdm._instances.clear()\n",
        "\n",
        "  for i in tqdm(range(generation_length)):\n",
        "      '''TODO: evaluate the inputs and generate the next character predictions'''\n",
        "      predictions = model(input_eval)\n",
        "      \n",
        "      # Remove the batch dimension\n",
        "      predictions = tf.squeeze(predictions, 0)\n",
        "      \n",
        "      '''TODO: use a multinomial distribution to sample'''\n",
        "      predicted_id = tf.random.categorical(predictions, num_samples=1)[-1,0].numpy()\n",
        "      \n",
        "      # Pass the prediction along with the previous hidden state\n",
        "      #   as the next inputs to the model\n",
        "      input_eval = tf.expand_dims([predicted_id], 0)\n",
        "      \n",
        "      '''TODO: add the predicted character to the generated text!'''\n",
        "      # Hint: consider what format the prediction is in vs. the output\n",
        "      text_generated.append(idx2char[predicted_id])\n",
        "    \n",
        "  return [start_string] + text_generated"
      ],
      "execution_count": null,
      "outputs": []
    },
    {
      "cell_type": "markdown",
      "metadata": {
        "id": "bItfUTSWAIMC"
      },
      "source": [
        "## Generate a New Song\r\n",
        "\r\n",
        "We generate a new song by sampling a random starting note or chord from our vocabulary.  We then generate a new note/chord one at a time to create a song."
      ]
    },
    {
      "cell_type": "code",
      "metadata": {
        "colab": {
          "base_uri": "https://localhost:8080/"
        },
        "id": "ktovv0RFhrkn",
        "outputId": "bdd2909e-b3ca-4d75-aa4a-0bfc333bf40b"
      },
      "source": [
        "import random\n",
        "\n",
        "generated_text = generate_text(model, start_string=random.sample(vocab, 1)[0], generation_length=1000)"
      ],
      "execution_count": null,
      "outputs": [
        {
          "output_type": "stream",
          "text": [
            "100%|██████████| 1000/1000 [00:07<00:00, 134.32it/s]\n"
          ],
          "name": "stderr"
        }
      ]
    },
    {
      "cell_type": "markdown",
      "metadata": {
        "id": "AM2Uma_-yVIq"
      },
      "source": [
        "### Play back the generated music!\n",
        "\n",
        "We can now call a function to convert the notes format text to a MIDI file.  You can play the MIDI files by downloading them."
      ]
    },
    {
      "cell_type": "code",
      "metadata": {
        "id": "HltmTgKoHbdT"
      },
      "source": [
        "songs = [[]]\r\n",
        "index = 0\r\n",
        "for i in generated_text:\r\n",
        "  if not i == '\\n':\r\n",
        "    songs[index].append(i)\r\n",
        "  else:\r\n",
        "    songs.append([])\r\n",
        "    index += 1\r\n",
        "\r\n",
        "for s in songs:\r\n",
        "  if s == []:\r\n",
        "    songs.remove(s)\r\n",
        "\r\n",
        "for i in range(len(songs)):\r\n",
        "  midi_notes = convertNotes2MIDI(songs[i])\r\n",
        "  convertMIDI2audio(midi_notes, filename=str(i) + '.mid')"
      ],
      "execution_count": null,
      "outputs": []
    }
  ]
}